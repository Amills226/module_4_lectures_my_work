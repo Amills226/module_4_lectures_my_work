{
 "cells": [
  {
   "cell_type": "markdown",
   "metadata": {
    "slideshow": {
     "slide_type": "slide"
    }
   },
   "source": [
    "## The Accumulator Pattern"
   ]
  },
  {
   "cell_type": "markdown",
   "metadata": {
    "slideshow": {
     "slide_type": "slide"
    }
   },
   "source": [
    "## The accumulator pattern\n",
    "\n",
    "* For turning a sequence into a value\n",
    "    * e.g. Computing statistics\n",
    "* Uses\n",
    "    * A `for` loop\n",
    "    * An accumulation variable\n",
    "    * Update step"
   ]
  },
  {
   "cell_type": "markdown",
   "metadata": {
    "slideshow": {
     "slide_type": "slide"
    }
   },
   "source": [
    "## Example 1 - The mean of a random variable"
   ]
  },
  {
   "cell_type": "code",
   "execution_count": 2,
   "metadata": {
    "slideshow": {
     "slide_type": "fragment"
    }
   },
   "outputs": [],
   "source": [
    "from random import gammavariate\n",
    "#help(gammavariate)"
   ]
  },
  {
   "cell_type": "code",
   "execution_count": 3,
   "metadata": {
    "slideshow": {
     "slide_type": "fragment"
    }
   },
   "outputs": [
    {
     "output_type": "execute_result",
     "data": {
      "text/plain": "[2.478530532709258,\n 2.2752473485997573,\n 5.324638170419562,\n 3.1366930160118534,\n 3.41017164810697]"
     },
     "metadata": {},
     "execution_count": 3
    }
   ],
   "source": [
    "N = 1000000\n",
    "trials = [gammavariate(2,3) for i in range(N)]\n",
    "trials[:5]"
   ]
  },
  {
   "cell_type": "markdown",
   "metadata": {
    "slideshow": {
     "slide_type": "slide"
    }
   },
   "source": [
    "## Accumulating the mean\n",
    "\n",
    "Keep track of\n",
    "\n",
    "* current sum\n",
    "* current count"
   ]
  },
  {
   "cell_type": "code",
   "execution_count": 4,
   "metadata": {
    "slideshow": {
     "slide_type": "slide"
    }
   },
   "outputs": [
    {
     "output_type": "execute_result",
     "data": {
      "text/plain": "5.993677719521255"
     },
     "metadata": {},
     "execution_count": 4
    }
   ],
   "source": [
    "cnt = 0 # Count for an empty list\n",
    "tot = 0 # Total for an empty list\n",
    "for trial in trials:\n",
    "    cnt = cnt + 1 # Update the count\n",
    "    tot = tot + trial # Update the total\n",
    "mean = tot/cnt\n",
    "mean"
   ]
  },
  {
   "cell_type": "markdown",
   "metadata": {},
   "source": [
    "## Example 2 -- Checking membership.\n",
    "\n",
    "Suppose we have a sequence `L` and a value `val`.  We want to write a program to determine if `val` is contained in `L` at least once.  We can do this with the accumulator pattern."
   ]
  },
  {
   "cell_type": "code",
   "execution_count": 5,
   "metadata": {},
   "outputs": [
    {
     "output_type": "execute_result",
     "data": {
      "text/plain": "('d', 'abcdefghijklmnopqrstuvwxyz')"
     },
     "metadata": {},
     "execution_count": 5
    }
   ],
   "source": [
    "from string import ascii_lowercase\n",
    "val = \"d\"\n",
    "val, ascii_lowercase"
   ]
  },
  {
   "cell_type": "code",
   "execution_count": 9,
   "metadata": {},
   "outputs": [
    {
     "output_type": "execute_result",
     "data": {
      "text/plain": "False"
     },
     "metadata": {},
     "execution_count": 9
    }
   ],
   "source": [
    "is_member = False # Membership for an empty list\n",
    "for ch in ascii_lowercase:\n",
    "    is_member = val == ch or is_member# This ch matches OR we already matched\n",
    "    #print(val, ch, is_member)\n",
    "is_member"
   ]
  },
  {
   "cell_type": "code",
   "execution_count": 7,
   "metadata": {},
   "outputs": [
    {
     "output_type": "execute_result",
     "data": {
      "text/plain": "('µ', 'abcdefghijklmnopqrstuvwxyz')"
     },
     "metadata": {},
     "execution_count": 7
    }
   ],
   "source": [
    "from string import ascii_lowercase\n",
    "val = \"µ\"\n",
    "val, ascii_lowercase"
   ]
  },
  {
   "cell_type": "code",
   "execution_count": 8,
   "metadata": {},
   "outputs": [
    {
     "output_type": "execute_result",
     "data": {
      "text/plain": "False"
     },
     "metadata": {},
     "execution_count": 8
    }
   ],
   "source": [
    "is_member = False # Membership for an empty list\n",
    "for ch in ascii_lowercase:\n",
    "    is_member = val == ch or is_member \n",
    "    #print(val, ch, is_member)\n",
    "is_member"
   ]
  },
  {
   "cell_type": "markdown",
   "metadata": {
    "slideshow": {
     "slide_type": "slide"
    }
   },
   "source": [
    "## The accumulator pattern\n",
    "\n",
    "<img src=\"./img/accum.png\"/>"
   ]
  },
  {
   "cell_type": "markdown",
   "metadata": {
    "slideshow": {
     "slide_type": "slide"
    }
   },
   "source": [
    "<font color=\"red\"><h2> Exercise 4.2.1 </h2></font>\n",
    "\n",
    "The variance of a random variable is the average squared distance to the mean.  We can estimate the variance of a random variable using a simulation with large number of trials.\n",
    "\n",
    "Do this by ..."
   ]
  },
  {
   "cell_type": "markdown",
   "metadata": {
    "slideshow": {
     "slide_type": "slide"
    }
   },
   "source": [
    "#### Use a list comp. to compute a list of squared distances to the mean."
   ]
  },
  {
   "cell_type": "code",
   "execution_count": 13,
   "metadata": {
    "slideshow": {
     "slide_type": "fragment"
    }
   },
   "outputs": [
    {
     "output_type": "execute_result",
     "data": {
      "text/plain": "[0, 1, 4, 9, 16]"
     },
     "metadata": {},
     "execution_count": 13
    }
   ],
   "source": [
    "N = 10\n",
    "distance = [i**2 for i in range(N)]\n",
    "distance[:5]"
   ]
  },
  {
   "cell_type": "markdown",
   "metadata": {
    "slideshow": {
     "slide_type": "slide"
    }
   },
   "source": [
    "#### Use the accumulator pattern to get the count and total squared distance"
   ]
  },
  {
   "cell_type": "code",
   "execution_count": 14,
   "metadata": {
    "slideshow": {
     "slide_type": "fragment"
    }
   },
   "outputs": [
    {
     "output_type": "execute_result",
     "data": {
      "text/plain": "285"
     },
     "metadata": {},
     "execution_count": 14
    }
   ],
   "source": [
    "cnt = 0 # Count for an empty list\n",
    "tot = 0 # Total for an empty list\n",
    "for dist in distance:\n",
    "    cnt = cnt + 1 # Update the count\n",
    "    tot = tot + dist # Update the total squared distance\n",
    "cnt\n",
    "tot"
   ]
  },
  {
   "cell_type": "markdown",
   "metadata": {
    "slideshow": {
     "slide_type": "slide"
    }
   },
   "source": [
    "#### Compute the variance\n",
    "\n",
    "$$variance = \\frac{\\text{Total Sqr Dist}}{\\text{Num Trials}}$$"
   ]
  },
  {
   "cell_type": "code",
   "execution_count": 16,
   "metadata": {
    "slideshow": {
     "slide_type": "fragment"
    }
   },
   "outputs": [
    {
     "output_type": "execute_result",
     "data": {
      "text/plain": "28.5"
     },
     "metadata": {},
     "execution_count": 16
    }
   ],
   "source": [
    "variance = tot/cnt\n",
    "variance"
   ]
  },
  {
   "cell_type": "code",
   "execution_count": null,
   "metadata": {},
   "outputs": [],
   "source": []
  }
 ],
 "metadata": {
  "celltoolbar": "Slideshow",
  "kernelspec": {
   "display_name": "Python 3",
   "language": "python",
   "name": "python3"
  },
  "language_info": {
   "codemirror_mode": {
    "name": "ipython",
    "version": 3
   },
   "file_extension": ".py",
   "mimetype": "text/x-python",
   "name": "python",
   "nbconvert_exporter": "python",
   "pygments_lexer": "ipython3",
   "version": "3.7.6-final"
  },
  "varInspector": {
   "cols": {
    "lenName": 16,
    "lenType": 16,
    "lenVar": 40
   },
   "kernels_config": {
    "python": {
     "delete_cmd_postfix": "",
     "delete_cmd_prefix": "del ",
     "library": "var_list.py",
     "varRefreshCmd": "print(var_dic_list())"
    },
    "r": {
     "delete_cmd_postfix": ") ",
     "delete_cmd_prefix": "rm(",
     "library": "var_list.r",
     "varRefreshCmd": "cat(var_dic_list()) "
    }
   },
   "types_to_exclude": [
    "module",
    "function",
    "builtin_function_or_method",
    "instance",
    "_Feature"
   ],
   "window_display": false
  }
 },
 "nbformat": 4,
 "nbformat_minor": 2
}